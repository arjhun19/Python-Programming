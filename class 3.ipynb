{
 "cells": [
  {
   "cell_type": "code",
   "execution_count": null,
   "metadata": {},
   "outputs": [],
   "source": [
    "#conditional statements"
   ]
  },
  {
   "cell_type": "markdown",
   "metadata": {},
   "source": [
    "# if statement"
   ]
  },
  {
   "cell_type": "code",
   "execution_count": null,
   "metadata": {},
   "outputs": [],
   "source": [
    "a= 10\n",
    "if a>1:\n",
    "    print(\"a>1\")"
   ]
  },
  {
   "cell_type": "markdown",
   "metadata": {},
   "source": [
    "# if else statement"
   ]
  },
  {
   "cell_type": "code",
   "execution_count": null,
   "metadata": {},
   "outputs": [],
   "source": [
    "a= 0\n",
    "if a>1:\n",
    "    print(\"a>1\")\n",
    "else:\n",
    "    print(\"a<1\")"
   ]
  },
  {
   "cell_type": "markdown",
   "metadata": {},
   "source": [
    "# if elif"
   ]
  },
  {
   "cell_type": "code",
   "execution_count": null,
   "metadata": {},
   "outputs": [],
   "source": [
    "a=5\n",
    "if a>1:\n",
    "    print(\"a>1\")\n",
    "elif a > -1:\n",
    "    print(\"1 >= a > -1\")"
   ]
  },
  {
   "cell_type": "markdown",
   "metadata": {},
   "source": [
    "# if elif else"
   ]
  },
  {
   "cell_type": "code",
   "execution_count": null,
   "metadata": {},
   "outputs": [],
   "source": [
    "a=-22\n",
    "if a>1:\n",
    "    print(\"a>1\")\n",
    "elif a==0:\n",
    "    print(\"a==0\")\n",
    "else:\n",
    "    print(\"a<0\")"
   ]
  },
  {
   "cell_type": "code",
   "execution_count": null,
   "metadata": {},
   "outputs": [],
   "source": [
    "b=-2\n",
    "if b==21 and b<=40:\n",
    "    print(\"the age is between 21 to 40\")\n",
    "elif b==41 and b<=60:\n",
    "    print(\"the age is between 41 to 60\")\n",
    "elif b>60:\n",
    "    print(\"the age is above 60\")\n",
    "elif b<0:\n",
    "    print(\"age entered is invalid\")\n",
    "elif b==0 and b<=20:\n",
    "    print(\"the age is between 0 to 20\")\n",
    "    "
   ]
  },
  {
   "cell_type": "code",
   "execution_count": null,
   "metadata": {},
   "outputs": [],
   "source": [
    "c= 6\n",
    "if c%5==0 and c%3==0:\n",
    "    print(\"number is multiple of 3 and 5\")\n",
    "elif c%5==0:\n",
    "    print(\"number is divisible by only 5\")\n",
    "elif c%3==0:\n",
    "    print(\"number is divisible by only 3\")\n",
    "else:\n",
    "    print(\"its not a multiple of 3 and 5\")"
   ]
  },
  {
   "cell_type": "markdown",
   "metadata": {},
   "source": [
    "# modulo operator"
   ]
  },
  {
   "cell_type": "code",
   "execution_count": null,
   "metadata": {},
   "outputs": [],
   "source": [
    "10%5"
   ]
  },
  {
   "cell_type": "markdown",
   "metadata": {},
   "source": [
    "# While loops"
   ]
  },
  {
   "cell_type": "code",
   "execution_count": null,
   "metadata": {},
   "outputs": [],
   "source": [
    "a=5 \n",
    "while a>0:\n",
    "    print(\"a = ,a )\n",
    "    a-= 1\n",
    "        "
   ]
  },
  {
   "cell_type": "code",
   "execution_count": null,
   "metadata": {},
   "outputs": [],
   "source": [
    "num = 25\n",
    "while num <=50:\n",
    "    print(\"number is \", num)\n",
    "    num +=1"
   ]
  },
  {
   "cell_type": "markdown",
   "metadata": {},
   "source": [
    "# if inside while"
   ]
  },
  {
   "cell_type": "code",
   "execution_count": null,
   "metadata": {},
   "outputs": [],
   "source": [
    "n=1\n",
    "while n<=50:\n",
    "    if n%3==0:\n",
    "        print(\"%s is multiple of 3\" %n)\n",
    "    else:\n",
    "        print(\"%s it not a multiple of 3\" %n)\n",
    "    n += 1   "
   ]
  },
  {
   "cell_type": "code",
   "execution_count": null,
   "metadata": {},
   "outputs": [],
   "source": [
    "import numpy as np\n",
    "import pandas as pd\n",
    "from matplotlib import pyplot as plt\n",
    "import sklearn"
   ]
  },
  {
   "cell_type": "code",
   "execution_count": 2,
   "metadata": {},
   "outputs": [
    {
     "name": "stdout",
     "output_type": "stream",
     "text": [
      "[5, 10, 20, 25, 35, 40, 50, 55, 65, 70, 80, 85, 95, 100]\n"
     ]
    }
   ],
   "source": [
    "n=0\n",
    "l=[]\n",
    "while n <=100:\n",
    "    if n%5==0 and n%3!=0:\n",
    "        #print(\"%s is a multiple of 5 but not a multiple of 3\" %n)\n",
    "        l.append(n)\n",
    "    n +=1\n",
    "print(l)\n",
    "    "
   ]
  },
  {
   "cell_type": "code",
   "execution_count": 9,
   "metadata": {},
   "outputs": [
    {
     "name": "stdout",
     "output_type": "stream",
     "text": [
      "14\n"
     ]
    }
   ],
   "source": [
    "print(len(l))"
   ]
  },
  {
   "cell_type": "code",
   "execution_count": 10,
   "metadata": {},
   "outputs": [
    {
     "name": "stdout",
     "output_type": "stream",
     "text": [
      "735\n"
     ]
    }
   ],
   "source": [
    "print(sum(l))"
   ]
  },
  {
   "cell_type": "code",
   "execution_count": 15,
   "metadata": {},
   "outputs": [
    {
     "name": "stdout",
     "output_type": "stream",
     "text": [
      "[0, 6, 12, 18, 24, 30, 36, 42, 48, 54, 60, 66, 72, 78, 84, 90, 96, 102, 108, 114, 120, 126, 132, 138, 144]\n"
     ]
    }
   ],
   "source": [
    "n=0\n",
    "a=[]\n",
    "while n <= 1000:\n",
    "    if n**2 %3 ==0 and n%2==0:\n",
    "        a.append(n)\n",
    "    if len(a)==25:\n",
    "        break\n",
    "    n +=1\n",
    "print(a)\n",
    "        \n",
    "        "
   ]
  },
  {
   "cell_type": "markdown",
   "metadata": {},
   "source": [
    "# while else"
   ]
  },
  {
   "cell_type": "code",
   "execution_count": null,
   "metadata": {},
   "outputs": [],
   "source": [
    "data="
   ]
  },
  {
   "cell_type": "code",
   "execution_count": 18,
   "metadata": {},
   "outputs": [
    {
     "name": "stdout",
     "output_type": "stream",
     "text": [
      "*\n",
      "**\n",
      "***\n",
      "****\n",
      "*****\n",
      "******\n",
      "*******\n",
      "********\n",
      "*********\n",
      "**********\n"
     ]
    }
   ],
   "source": [
    "for i in range(1,11):\n",
    "    print(\"*\"*i)"
   ]
  },
  {
   "cell_type": "code",
   "execution_count": 68,
   "metadata": {},
   "outputs": [
    {
     "name": "stdout",
     "output_type": "stream",
     "text": [
      "         *\n",
      "        **\n",
      "       ***\n",
      "      ****\n",
      "     *****\n",
      "    ******\n",
      "   *******\n",
      "  ********\n",
      " *********\n"
     ]
    }
   ],
   "source": [
    "for i in range (1,10):\n",
    "    print(\" \"*(10-i), end=\"\")\n",
    "    print(\"*\"*i)"
   ]
  },
  {
   "cell_type": "code",
   "execution_count": 72,
   "metadata": {},
   "outputs": [
    {
     "name": "stdout",
     "output_type": "stream",
     "text": [
      "                                                  **\n",
      "                                                 ****\n",
      "                                                ******\n",
      "                                               ********\n",
      "                                              **********\n",
      "                                             ************\n",
      "                                            **************\n",
      "                                           ****************\n",
      "                                          ******************\n",
      "                                         ********************\n",
      "                                        **********************\n",
      "                                       ************************\n",
      "                                      **************************\n",
      "                                     ****************************\n",
      "                                    ******************************\n",
      "                                   ********************************\n",
      "                                  **********************************\n",
      "                                 ************************************\n",
      "                                **************************************\n",
      "                               ****************************************\n",
      "                              ******************************************\n",
      "                             ********************************************\n",
      "                            **********************************************\n",
      "                           ************************************************\n",
      "                          **************************************************\n",
      "                         ****************************************************\n",
      "                        ******************************************************\n",
      "                       ********************************************************\n",
      "                      **********************************************************\n",
      "                     ************************************************************\n",
      "                    **************************************************************\n",
      "                   ****************************************************************\n",
      "                  ******************************************************************\n",
      "                 ********************************************************************\n",
      "                **********************************************************************\n",
      "               ************************************************************************\n",
      "              **************************************************************************\n",
      "             ****************************************************************************\n",
      "            ******************************************************************************\n",
      "           ********************************************************************************\n",
      "          **********************************************************************************\n",
      "         ************************************************************************************\n",
      "        **************************************************************************************\n",
      "       ****************************************************************************************\n",
      "      ******************************************************************************************\n",
      "     ********************************************************************************************\n",
      "    **********************************************************************************************\n",
      "   ************************************************************************************************\n",
      "  **************************************************************************************************\n"
     ]
    }
   ],
   "source": [
    "for i in range (1,50):\n",
    "    print(\" \"*(50-i), end=\" \")\n",
    "    #print(\"*\"*(11-1),end=\" \")\n",
    "    print(\"*\"*i, end=\"\")\n",
    "    print(\"*\"*i)"
   ]
  },
  {
   "cell_type": "markdown",
   "metadata": {},
   "source": [
    "# functions"
   ]
  },
  {
   "cell_type": "markdown",
   "metadata": {},
   "source": [
    "# syntax "
   ]
  },
  {
   "cell_type": "markdown",
   "metadata": {},
   "source": [
    "## def fu name(parameters):\n",
    "          function definition\n",
    "       "
   ]
  },
  {
   "cell_type": "code",
   "execution_count": 32,
   "metadata": {},
   "outputs": [],
   "source": [
    "def square():\n",
    "    r=n**2\n",
    "    return(r)"
   ]
  },
  {
   "cell_type": "code",
   "execution_count": 33,
   "metadata": {},
   "outputs": [
    {
     "data": {
      "text/plain": [
       "100"
      ]
     },
     "execution_count": 33,
     "metadata": {},
     "output_type": "execute_result"
    }
   ],
   "source": [
    "square(10)"
   ]
  },
  {
   "cell_type": "code",
   "execution_count": 44,
   "metadata": {},
   "outputs": [],
   "source": [
    "\n",
    "l=[3,5,2,7,9]\n",
    "v=[]\n",
    "\n",
    "def square(x):\n",
    "    r=x**2,\n",
    "    return(r)\n",
    "\n",
    "for x in l :\n",
    "    op = square(x)\n",
    "    v.append(op)\n",
    "  \n",
    "    \n",
    "    "
   ]
  },
  {
   "cell_type": "code",
   "execution_count": 45,
   "metadata": {},
   "outputs": [
    {
     "name": "stdout",
     "output_type": "stream",
     "text": [
      "[9, 25, 4, 49, 81]\n"
     ]
    }
   ],
   "source": [
    "print(v)"
   ]
  },
  {
   "cell_type": "code",
   "execution_count": 46,
   "metadata": {},
   "outputs": [],
   "source": [
    "import math\n",
    "l=[3,5,2,7,9]\n",
    "v=[]\n",
    "\n",
    "def square(x):\n",
    "    r=x**2\n",
    "    rt= math.sqrt(x)\n",
    "    return(r,rt)\n",
    "\n",
    "for x in l :\n",
    "    op = square(x)\n",
    "    v.append(op)\n",
    "  "
   ]
  },
  {
   "cell_type": "code",
   "execution_count": 47,
   "metadata": {},
   "outputs": [
    {
     "name": "stdout",
     "output_type": "stream",
     "text": [
      "[(9, 1.7320508075688772), (25, 2.23606797749979), (4, 1.4142135623730951), (49, 2.6457513110645907), (81, 3.0)]\n"
     ]
    }
   ],
   "source": [
    "print (v)"
   ]
  },
  {
   "cell_type": "code",
   "execution_count": 48,
   "metadata": {},
   "outputs": [],
   "source": [
    "import numpy as np"
   ]
  },
  {
   "cell_type": "code",
   "execution_count": 50,
   "metadata": {},
   "outputs": [],
   "source": [
    "x= np.array([1,2,3,5,3])"
   ]
  },
  {
   "cell_type": "code",
   "execution_count": 51,
   "metadata": {},
   "outputs": [
    {
     "data": {
      "text/plain": [
       "5"
      ]
     },
     "execution_count": 51,
     "metadata": {},
     "output_type": "execute_result"
    }
   ],
   "source": [
    "x.max()"
   ]
  },
  {
   "cell_type": "code",
   "execution_count": 52,
   "metadata": {},
   "outputs": [
    {
     "data": {
      "text/plain": [
       "2.8"
      ]
     },
     "execution_count": 52,
     "metadata": {},
     "output_type": "execute_result"
    }
   ],
   "source": [
    "x.mean()"
   ]
  },
  {
   "cell_type": "code",
   "execution_count": 53,
   "metadata": {},
   "outputs": [
    {
     "data": {
      "text/plain": [
       "1"
      ]
     },
     "execution_count": 53,
     "metadata": {},
     "output_type": "execute_result"
    }
   ],
   "source": [
    "x.min()"
   ]
  },
  {
   "cell_type": "code",
   "execution_count": 54,
   "metadata": {},
   "outputs": [],
   "source": [
    "y=x.copy()"
   ]
  },
  {
   "cell_type": "code",
   "execution_count": 55,
   "metadata": {},
   "outputs": [
    {
     "data": {
      "text/plain": [
       "array([1, 2, 3, 5, 3])"
      ]
     },
     "execution_count": 55,
     "metadata": {},
     "output_type": "execute_result"
    }
   ],
   "source": [
    "y"
   ]
  },
  {
   "cell_type": "code",
   "execution_count": 58,
   "metadata": {},
   "outputs": [],
   "source": [
    "y.sort(-1)"
   ]
  },
  {
   "cell_type": "code",
   "execution_count": 62,
   "metadata": {},
   "outputs": [],
   "source": [
    "?y.sort"
   ]
  },
  {
   "cell_type": "code",
   "execution_count": null,
   "metadata": {},
   "outputs": [],
   "source": []
  },
  {
   "cell_type": "code",
   "execution_count": null,
   "metadata": {},
   "outputs": [],
   "source": []
  }
 ],
 "metadata": {
  "kernelspec": {
   "display_name": "Python 3",
   "language": "python",
   "name": "python3"
  },
  "language_info": {
   "codemirror_mode": {
    "name": "ipython",
    "version": 3
   },
   "file_extension": ".py",
   "mimetype": "text/x-python",
   "name": "python",
   "nbconvert_exporter": "python",
   "pygments_lexer": "ipython3",
   "version": "3.7.0"
  }
 },
 "nbformat": 4,
 "nbformat_minor": 2
}
